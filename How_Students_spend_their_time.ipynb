{
  "cells": [
    {
      "cell_type": "markdown",
      "metadata": {
        "id": "view-in-github",
        "colab_type": "text"
      },
      "source": [
        "<a href=\"https://colab.research.google.com/github/ragul-n/Time-Use-survey-India-Analysis/blob/master/How_Students_spend_their_time.ipynb\" target=\"_parent\"><img src=\"https://colab.research.google.com/assets/colab-badge.svg\" alt=\"Open In Colab\"/></a>"
      ]
    },
    {
      "cell_type": "code",
      "execution_count": null,
      "metadata": {
        "id": "Mib2c8LPyqqX"
      },
      "outputs": [],
      "source": [
        "import pandas as pd \n",
        "import matplotlib.pyplot as plt\n",
        "import seaborn as sns\n",
        "import numpy as np"
      ]
    },
    {
      "cell_type": "code",
      "source": [
        "#(32, 34), (34, 36),\n",
        "colspecs= [(0, 32),  (36,39), (40,42),(42,45), (45,50),(50,55),(55,56), (56,57), (57,58), (58,61),(61,62),(62,64)  ]\n",
        "\n",
        "fwf=  pd.read_fwf(\"/content/drive/MyDrive/Dataset/TIME USE SURVEY/Original Data (.txt)/TUS106_L05.txt\",colspecs=colspecs, low_memmory=True, header=None)"
      ],
      "metadata": {
        "id": "fBYIhew4yF7a"
      },
      "execution_count": null,
      "outputs": []
    },
    {
      "cell_type": "code",
      "source": [
        "fwf.columns=[\"Common_ID\",\"Serial_no_of_member\",\"age\", \"srl__No_of_activity\",\"time_from\", \"time_to\", \n",
        "             \"whether_performed_multiple_activ\",\"whether_simultaneous_activity\", \"whether_a_major_activity\",\n",
        "            \"_3_didit_activity_code\",  \"where_the_activity_was_performed\", \"unpaid_paid_status_of_activity\" ]"
      ],
      "metadata": {
        "id": "eXcXU4TI3As7"
      },
      "execution_count": null,
      "outputs": []
    },
    {
      "cell_type": "code",
      "source": [
        "level2 = pd.read_stata(\"/content/drive/MyDrive/Dataset/TIME USE SURVEY/Processed Data in Stata Format(.dta)/TUS106_L02.dta\")\n",
        "level2[\"state\"] = [i[0:2] for i in level2[\"NSS_Region\"]]\n",
        "level2[\"Person_serial_no_\"]=level2[\"Person_serial_no_\"].astype(\"float\")\n",
        "level2[\"Age\"]=level2.Age.astype(\"int32\")\n",
        "\n",
        "level1 = pd.read_stata(\"/content/drive/MyDrive/Dataset/TIME USE SURVEY/Processed Data in Stata Format(.dta)/TUS106_L01.dta\")\n"
      ],
      "metadata": {
        "id": "tPt4qbbUE0Sd"
      },
      "execution_count": null,
      "outputs": []
    },
    {
      "cell_type": "code",
      "source": [
        "individual_data = level2[[\"Common_ID\",\"Person_serial_no_\" ,\"state\",\"Sector\", \"Gender\",\"usual_principal_activity__status\", \"industry_of_work__2_digit_of_NIC\", \"weight_level2\"]]\n",
        "\n",
        "students_list= individual_data[individual_data[\"usual_principal_activity__status\"]==\"91\"]\n",
        "\n",
        "students_activity= fwf.merge(students_list, right_on=[\"Common_ID\",\"Person_serial_no_\"], left_on=[\"Common_ID\",\"Serial_no_of_member\" ], how=\"right\")\n",
        "\n",
        "\n"
      ],
      "metadata": {
        "id": "UGx6O3S6H8lW"
      },
      "execution_count": null,
      "outputs": []
    },
    {
      "cell_type": "code",
      "source": [
        "students_activity[\"time_spent\"]=pd.to_datetime(students_activity.time_to, format=\"%H:%M\") - pd.to_datetime(students_activity.time_from, format=\"%H:%M\")\n",
        "\n",
        "students_activity[\"time_spent\"]= students_activity[\"time_spent\"].dt.seconds/60\n"
      ],
      "metadata": {
        "id": "ZJQVjREeX9Qd"
      },
      "execution_count": null,
      "outputs": []
    },
    {
      "cell_type": "markdown",
      "source": [
        "Time Spent in learning outside of school/collage"
      ],
      "metadata": {
        "id": "4_KXYgdCeEvf"
      }
    },
    {
      "cell_type": "code",
      "source": [
        "learning_time= students_activity[(students_activity[\"_3_didit_activity_code\"]==620) &  (students_activity[\"age\"]<=25) & (students_activity[\"age\"]>=13) & (students_activity[\"whether_a_major_activity\"]==1)]\n",
        "\n",
        "learning_time= learning_time.groupby([\"state\",\"Sector\",\"Gender\", \"Common_ID\",\"Serial_no_of_member\"])[\"time_spent\", \"weight_level2\"].agg({\"time_spent\":\"sum\",\"weight_level2\":\"mean\" })\n",
        "\n",
        "learning_time = learning_time.groupby([\"state\",\"Sector\",\"Gender\"])[[\"time_spent\", \"weight_level2\"]].apply(lambda gp: np.average(gp.time_spent, weights=gp.weight_level2))\n",
        "\n",
        "learning_time.groupby([\"Gender\"]).agg(\"mean\")"
      ],
      "metadata": {
        "colab": {
          "base_uri": "https://localhost:8080/"
        },
        "id": "pIRr--cQchBO",
        "outputId": "d05bed7e-1923-4d23-a7dd-cc06dd029b7a"
      },
      "execution_count": null,
      "outputs": [
        {
          "output_type": "stream",
          "name": "stderr",
          "text": [
            "/usr/local/lib/python3.7/dist-packages/ipykernel_launcher.py:3: FutureWarning: Indexing with multiple keys (implicitly converted to a tuple of keys) will be deprecated, use a list instead.\n",
            "  This is separate from the ipykernel package so we can avoid doing imports until\n"
          ]
        },
        {
          "output_type": "execute_result",
          "data": {
            "text/plain": [
              "Gender\n",
              "1    159.131826\n",
              "2    161.923344\n",
              "3    188.412232\n",
              "dtype: float64"
            ]
          },
          "metadata": {},
          "execution_count": 48
        }
      ]
    },
    {
      "cell_type": "markdown",
      "source": [
        "Time spent in household chores"
      ],
      "metadata": {
        "id": "xvvcm0io2XGp"
      }
    },
    {
      "cell_type": "code",
      "source": [
        "\n",
        "chores_time= students_activity[(students_activity[\"_3_didit_activity_code\"]>=300) & (students_activity[\"_3_didit_activity_code\"]<=399) &\n",
        "                               (students_activity[\"age\"]<=25) & (students_activity[\"age\"]>=13)]\n",
        "\n",
        "chores_time.loc[chores_time.whether_a_major_activity==1]\n",
        "\n",
        "chores_time= chores_time.groupby([\"state\",\"Sector\",\"Gender\",\"Common_ID\",\"Serial_no_of_member\"])[\"time_spent\", \"weight_level2\"].agg({\"time_spent\":\"sum\",\"weight_level2\":\"mean\" })\n",
        "\n",
        "chores_time = chores_time.groupby([\"state\",\"Sector\",\"Gender\"])[[\"time_spent\", \"weight_level2\"]].apply(lambda gp: np.average(gp.time_spent, weights=gp.weight_level2))\n",
        "\n",
        "chores_time = chores_time.groupby([\"Gender\"]).agg(\"mean\")\n",
        "\n",
        "chores_time"
      ],
      "metadata": {
        "colab": {
          "base_uri": "https://localhost:8080/"
        },
        "id": "tnrFB6jIez4K",
        "outputId": "7d37d7b5-4b21-4b55-bf0f-84888a3537f1"
      },
      "execution_count": null,
      "outputs": [
        {
          "output_type": "stream",
          "name": "stderr",
          "text": [
            "/usr/local/lib/python3.7/dist-packages/ipykernel_launcher.py:6: FutureWarning: Indexing with multiple keys (implicitly converted to a tuple of keys) will be deprecated, use a list instead.\n",
            "  \n"
          ]
        },
        {
          "output_type": "execute_result",
          "data": {
            "text/plain": [
              "Gender\n",
              "1    115.334128\n",
              "2    161.193553\n",
              "3    141.818182\n",
              "dtype: float64"
            ]
          },
          "metadata": {},
          "execution_count": 47
        }
      ]
    },
    {
      "cell_type": "markdown",
      "source": [
        "Social Time"
      ],
      "metadata": {
        "id": "Ji3ND78GWNJl"
      }
    },
    {
      "cell_type": "code",
      "source": [
        "social_time= students_activity[(students_activity[\"_3_didit_activity_code\"]>=700) & (students_activity[\"_3_didit_activity_code\"]<=799) &\n",
        "                               (students_activity[\"age\"]<=25) & (students_activity[\"age\"]>=13)]\n",
        "\n",
        "social_time.loc[social_time.whether_a_major_activity==1]\n",
        "\n",
        "social_time= social_time.groupby([\"state\",\"Sector\",\"Gender\",\"Common_ID\",\"Serial_no_of_member\"])[\"time_spent\", \"weight_level2\"].agg({\"time_spent\":\"sum\",\"weight_level2\":\"mean\" })\n",
        "\n",
        "social_time = social_time.groupby([\"state\",\"Sector\",\"Gender\"])[[\"time_spent\", \"weight_level2\"]].apply(lambda gp: np.average(gp.time_spent, weights=gp.weight_level2))\n",
        "\n",
        "social_time = social_time.groupby([ \"Gender\"]).agg(\"mean\")\n",
        "\n",
        "social_time"
      ],
      "metadata": {
        "colab": {
          "base_uri": "https://localhost:8080/"
        },
        "id": "UGNvWcIbPJjB",
        "outputId": "6408f4b7-3480-4495-a3ec-aa5f458ad0f1"
      },
      "execution_count": null,
      "outputs": [
        {
          "output_type": "stream",
          "name": "stderr",
          "text": [
            "/usr/local/lib/python3.7/dist-packages/ipykernel_launcher.py:6: FutureWarning: Indexing with multiple keys (implicitly converted to a tuple of keys) will be deprecated, use a list instead.\n",
            "  \n"
          ]
        },
        {
          "output_type": "execute_result",
          "data": {
            "text/plain": [
              "Gender\n",
              "1    189.709944\n",
              "2    184.556898\n",
              "3    310.753152\n",
              "dtype: float64"
            ]
          },
          "metadata": {},
          "execution_count": 45
        }
      ]
    },
    {
      "cell_type": "markdown",
      "source": [
        "### Leisure Time"
      ],
      "metadata": {
        "id": "0pPT-QOdW9zb"
      }
    },
    {
      "cell_type": "code",
      "source": [
        "leisure_time= students_activity[(students_activity[\"_3_didit_activity_code\"]>=800) & (students_activity[\"_3_didit_activity_code\"]<=899) &\n",
        "                               (students_activity[\"age\"]<=25) & (students_activity[\"age\"]>=13)]\n",
        "\n",
        "leisure_time.loc[leisure_time.whether_a_major_activity==1]\n",
        "\n",
        "leisure_time= leisure_time.groupby([\"state\",\"Sector\",\"Gender\",\"Common_ID\",\"Serial_no_of_member\"])[\"time_spent\", \"weight_level2\"].agg({\"time_spent\":\"sum\",\"weight_level2\":\"mean\" })\n",
        "\n",
        "leisure_time = leisure_time.groupby([\"state\",\"Sector\",\"Gender\"])[[\"time_spent\", \"weight_level2\"]].apply(lambda gp: np.average(gp.time_spent, weights=gp.weight_level2))\n",
        "\n",
        "leisure_time = leisure_time.groupby([\"Gender\"]).agg(\"mean\")\n",
        "\n",
        "leisure_time"
      ],
      "metadata": {
        "colab": {
          "base_uri": "https://localhost:8080/"
        },
        "id": "4hn0BXy-W-XX",
        "outputId": "eed945a8-373c-436a-b57a-20d04494792c"
      },
      "execution_count": null,
      "outputs": [
        {
          "output_type": "stream",
          "name": "stderr",
          "text": [
            "/usr/local/lib/python3.7/dist-packages/ipykernel_launcher.py:6: FutureWarning: Indexing with multiple keys (implicitly converted to a tuple of keys) will be deprecated, use a list instead.\n",
            "  \n"
          ]
        },
        {
          "output_type": "execute_result",
          "data": {
            "text/plain": [
              "Gender\n",
              "1    244.934721\n",
              "2    202.056388\n",
              "3    169.244161\n",
              "dtype: float64"
            ]
          },
          "metadata": {},
          "execution_count": 44
        }
      ]
    },
    {
      "cell_type": "markdown",
      "source": [
        "Time spent in household chores"
      ],
      "metadata": {
        "id": "4_5CEKlGYdbO"
      }
    },
    {
      "cell_type": "code",
      "source": [
        "selfcare_time= students_activity[(students_activity[\"_3_didit_activity_code\"]>=900) & (students_activity[\"_3_didit_activity_code\"]<=999) &\n",
        "                               (students_activity[\"age\"]<=25) & (students_activity[\"age\"]>=13)]\n",
        "\n",
        "selfcare_time.loc[selfcare_time.whether_a_major_activity==1]\n",
        "\n",
        "selfcare_time= selfcare_time.groupby([\"state\",\"Sector\",\"Gender\",\"Common_ID\",\"Serial_no_of_member\"])[\"time_spent\", \"weight_level2\"].agg({\"time_spent\":\"sum\",\"weight_level2\":\"mean\" })\n",
        "\n",
        "selfcare_time = selfcare_time.groupby([\"state\",\"Sector\",\"Gender\"])[[\"time_spent\", \"weight_level2\"]].apply(lambda gp: np.average(gp.time_spent, weights=gp.weight_level2))\n",
        "\n",
        "selfcare_time = selfcare_time.groupby([\"Gender\"]).agg(\"mean\")\n",
        "\n",
        "selfcare_time"
      ],
      "metadata": {
        "colab": {
          "base_uri": "https://localhost:8080/"
        },
        "id": "JA8YT6kDYd6N",
        "outputId": "d3baf4c3-5e3b-4727-90ae-bc07d15cd8af"
      },
      "execution_count": null,
      "outputs": [
        {
          "output_type": "stream",
          "name": "stderr",
          "text": [
            "/usr/local/lib/python3.7/dist-packages/ipykernel_launcher.py:6: FutureWarning: Indexing with multiple keys (implicitly converted to a tuple of keys) will be deprecated, use a list instead.\n",
            "  \n"
          ]
        },
        {
          "output_type": "execute_result",
          "data": {
            "text/plain": [
              "Gender\n",
              "1    779.627021\n",
              "2    780.698718\n",
              "3    761.556140\n",
              "dtype: float64"
            ]
          },
          "metadata": {},
          "execution_count": 14
        }
      ]
    },
    {
      "cell_type": "markdown",
      "source": [
        "### What are the top household activities students enage in?"
      ],
      "metadata": {
        "id": "ATAASzsQzMJs"
      }
    },
    {
      "cell_type": "code",
      "source": [
        "chores_time= students_activity[(students_activity[\"_3_didit_activity_code\"]>=700) & (students_activity[\"_3_didit_activity_code\"]<=799) &\n",
        "                               (students_activity[\"age\"]<=25) & (students_activity[\"age\"]>=13)]\n",
        "\n",
        "chores_time = chores_time.groupby([\"Gender\",\"_3_didit_activity_code\",\"Common_ID\",\"Serial_no_of_member\"])[\"time_spent\"].agg(\"sum\")\n",
        "\n",
        "chores_time= chores_time.groupby([\"Gender\",\"_3_didit_activity_code\"]).agg(\"mean\")\n",
        "\n",
        "chores_time"
      ],
      "metadata": {
        "colab": {
          "base_uri": "https://localhost:8080/"
        },
        "id": "01YCvJ7KzM0K",
        "outputId": "0d0072dd-7313-4eb6-ce93-e1aa4e2e57a1"
      },
      "execution_count": null,
      "outputs": [
        {
          "output_type": "execute_result",
          "data": {
            "text/plain": [
              "Gender  _3_didit_activity_code\n",
              "1       711.0                     146.386459\n",
              "        712.0                     116.073654\n",
              "        713.0                      79.886105\n",
              "        719.0                     113.621053\n",
              "        721.0                     177.473684\n",
              "        722.0                     214.752475\n",
              "        723.0                     162.857143\n",
              "        729.0                     132.941176\n",
              "        730.0                     145.714286\n",
              "        741.0                      56.573324\n",
              "        742.0                     114.292929\n",
              "        749.0                     108.043478\n",
              "        750.0                     115.077399\n",
              "        790.0                     104.147727\n",
              "2       711.0                     147.735742\n",
              "        712.0                      99.355383\n",
              "        713.0                      98.068182\n",
              "        719.0                      99.208401\n",
              "        721.0                     144.107143\n",
              "        722.0                     243.275862\n",
              "        723.0                     167.333333\n",
              "        729.0                     130.384615\n",
              "        730.0                      85.000000\n",
              "        741.0                      55.269001\n",
              "        742.0                     115.061425\n",
              "        749.0                      86.174497\n",
              "        750.0                     114.201681\n",
              "        790.0                     100.636364\n",
              "3       711.0                     141.428571\n",
              "        712.0                     180.000000\n",
              "        713.0                      30.000000\n",
              "        741.0                      40.000000\n",
              "        742.0                      60.000000\n",
              "        750.0                     675.000000\n",
              "Name: time_spent, dtype: float64"
            ]
          },
          "metadata": {},
          "execution_count": 16
        }
      ]
    },
    {
      "cell_type": "code",
      "source": [
        "t=chores_time.reset_index()\n",
        "male=t[t[\"Gender\"]=='1'].sort_values(\"time_spent\", ascending=False).set_index(\"_3_didit_activity_code\")\n",
        "female=t[t[\"Gender\"]=='2'].sort_values(\"time_spent\", ascending=False).set_index(\"_3_didit_activity_code\")\n",
        "\n",
        "x=female[\"time_spent\"]/male[\"time_spent\"]\n",
        "x.sort_values(ascending=False)"
      ],
      "metadata": {
        "colab": {
          "base_uri": "https://localhost:8080/"
        },
        "id": "kB_sK7ET5oAu",
        "outputId": "d24d5f14-f828-4ec3-cb06-e8054abf75c5"
      },
      "execution_count": null,
      "outputs": [
        {
          "output_type": "execute_result",
          "data": {
            "text/plain": [
              "_3_didit_activity_code\n",
              "713.0    1.227600\n",
              "722.0    1.132820\n",
              "723.0    1.027485\n",
              "711.0    1.009217\n",
              "742.0    1.006724\n",
              "750.0    0.992390\n",
              "729.0    0.980769\n",
              "741.0    0.976945\n",
              "790.0    0.966285\n",
              "719.0    0.873152\n",
              "712.0    0.855968\n",
              "721.0    0.811992\n",
              "749.0    0.797591\n",
              "730.0    0.583333\n",
              "Name: time_spent, dtype: float64"
            ]
          },
          "metadata": {},
          "execution_count": 17
        }
      ]
    },
    {
      "cell_type": "markdown",
      "source": [
        "### Relationship between Age and Time Spent in Household Chores"
      ],
      "metadata": {
        "id": "UfUhMTqYPYs8"
      }
    },
    {
      "cell_type": "code",
      "source": [
        "\n",
        "chores_time= students_activity[(students_activity[\"_3_didit_activity_code\"]>=300) & (students_activity[\"_3_didit_activity_code\"]<=499) & (students_activity[\"age\"]<=25)]\n",
        "\n",
        "chores_time= chores_time.groupby([\"state\",\"Sector\",\"Gender\",\"age\", \"Common_ID\",\"Serial_no_of_member\"])[\"time_spent\", \"weight_level2\"].agg({\"time_spent\":\"sum\",\"weight_level2\":\"mean\" })\n",
        "\n",
        "chores_time = chores_time.groupby([\"state\",\"Sector\",\"Gender\",\"age\"])[[\"time_spent\", \"weight_level2\"]].apply(lambda gp: np.average(gp.time_spent, weights=gp.weight_level2))\n",
        "\n",
        "chore_times = chores_time.groupby([\"age\", \"Gender\"]).agg(\"mean\")\n",
        "\n",
        "data= chore_times.reset_index()\n",
        "data[\"age\"]=data.age.astype(\"int32\")\n",
        "data[\"Gender\"]=data.Gender.astype(\"int32\")\n",
        "\n",
        "\n",
        "plt.plot(data[data[\"Gender\"]==1][\"age\"],data[data[\"Gender\"]==1][0], label=\"Boys\")\n",
        "plt.plot(data[data[\"Gender\"]==2][\"age\"],data[data[\"Gender\"]==2][0], label=\"Girls\")\n",
        "plt.legend()\n",
        "plt.title(\"\")\n"
      ],
      "metadata": {
        "colab": {
          "base_uri": "https://localhost:8080/",
          "height": 283
        },
        "id": "vRddgAEreP9e",
        "outputId": "8237aa63-13f5-486d-bf40-8ef6aec1ed1d"
      },
      "execution_count": null,
      "outputs": [
        {
          "output_type": "execute_result",
          "data": {
            "text/plain": [
              "<matplotlib.legend.Legend at 0x7f44c3f71850>"
            ]
          },
          "metadata": {},
          "execution_count": 52
        },
        {
          "output_type": "display_data",
          "data": {
            "text/plain": [
              "<Figure size 432x288 with 1 Axes>"
            ],
            "image/png": "[encoded data removed]"
          },
          "metadata": {
            "needs_background": "light"
          }
        }
      ]
    }
  ],
  "metadata": {
    "colab": {
      "provenance": [],
      "mount_file_id": "11e19JVFRV0QC5VVS7uoIVLprwbJ2D6rA",
      "authorship_tag": "ABX9TyP+Nw5NC/AIQPHXPKMjCx8f",
      "include_colab_link": true
    },
    "kernelspec": {
      "display_name": "Python 3",
      "name": "python3"
    },
    "language_info": {
      "name": "python"
    }
  },
  "nbformat": 4,
  "nbformat_minor": 0
}